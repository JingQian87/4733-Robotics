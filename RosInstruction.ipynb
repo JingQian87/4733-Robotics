{
  "nbformat": 4,
  "nbformat_minor": 0,
  "metadata": {
    "colab": {
      "name": "RosInstruction.ipynb",
      "version": "0.3.2",
      "provenance": [],
      "collapsed_sections": []
    },
    "kernelspec": {
      "name": "python3",
      "display_name": "Python 3"
    }
  },
  "cells": [
    {
      "metadata": {
        "id": "GCkfEPm-Fxcv",
        "colab_type": "text"
      },
      "cell_type": "markdown",
      "source": [
        "## 1. Set up Turtlebot in ROS\n",
        "$ sudo apt-get install ros-indigo-turtlebot-gazebo\n",
        "\n",
        "**Test installation**:<br>\n",
        "$ roslaunch turtlebot gazebo turtlebot world.launch\n",
        "\n",
        "## 2. Launch world\n",
        "$ roslaunch turtlebot gazebo turtlebot world.launch world file:=PWD/bug2 0.world \n",
        "\n",
        "*这里可以改world的名称和地址*\n",
        "\n",
        "## 3. Run moving script\n",
        "$ source ~/catkin_ws/devel/setup.bash \n",
        "\n",
        "$ python move.py\n"
      ]
    },
    {
      "metadata": {
        "id": "KORtetExGHen",
        "colab_type": "text"
      },
      "cell_type": "markdown",
      "source": [
        ""
      ]
    },
    {
      "metadata": {
        "id": "w4uEO949Fwk5",
        "colab_type": "code",
        "colab": {}
      },
      "cell_type": "code",
      "source": [
        ""
      ],
      "execution_count": 0,
      "outputs": []
    }
  ]
}