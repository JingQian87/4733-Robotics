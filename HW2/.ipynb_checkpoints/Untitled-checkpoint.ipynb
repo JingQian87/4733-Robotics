{
 "cells": [
  {
   "cell_type": "code",
   "execution_count": 5,
   "metadata": {},
   "outputs": [],
   "source": [
    "import numpy as np\n",
    "import matplotlib.pyplot as plt\n",
    "import math"
   ]
  },
  {
   "cell_type": "code",
   "execution_count": 78,
   "metadata": {},
   "outputs": [],
   "source": [
    "#Define the transformation\n",
    "def DHtransform(a, alpha, d, theta):\n",
    "    m = np.matrix([\n",
    "        [math.cos(theta), -math.sin(theta)*math.cos(alpha), math.sin(theta)*math.sin(alpha), a*math.cos(theta)],\n",
    "        [math.sin(theta), math.cos(theta)*math.cos(alpha), -math.cos(theta)*math.sin(alpha), a*math.sin(theta)],\n",
    "        [0, math.sin(alpha), math.cos(alpha), d],\n",
    "        [0, 0, 0, 1]\n",
    "    ])\n",
    "    return m\n",
    "\n",
    "def WAM(ltheta):\n",
    "    T1 = DHtransform(0, 0, 0.333, ltheta[0])\n",
    "    T2 = T1 * DHtransform(0, -math.pi/2, 0, ltheta[1]) \n",
    "    T3 = T2 * DHtransform(0, math.pi/2, 0.316, ltheta[2]) \n",
    "    T4 = T3 * DHtransform(0.0825, math.pi/2, 0, ltheta[3]) \n",
    "    T5 = T4 * DHtransform(-0.0825, -math.pi/2, 0.384, ltheta[4]) \n",
    "    T6 = T5 * DHtransform(0, math.pi/2, 0, ltheta[5]) \n",
    "    T7 = T6 * DHtransform(0.088, math.pi/2, 0, ltheta[6]) \n",
    "    #tmp = tmp * DHtransform(0, 0, 0.107, 0) \n",
    "    return [T1,T2,T3,T4,T5,T6,T7]"
   ]
  },
  {
   "cell_type": "code",
   "execution_count": 150,
   "metadata": {},
   "outputs": [],
   "source": [
    "#calculate Jacobian (forward kinematics)\n",
    "def Jacob(ltheta):\n",
    "    Tmatrix = WAM(ltheta)\n",
    "    Jo = np.array((0,0,1)).reshape(-1,1)\n",
    "    for i in range(6):\n",
    "        Jo = np.hstack((Jo, Tmatrix[i][0:3,2]))\n",
    "        pe = T7[0:3,3]\n",
    "        Jp = np.cross(Jo[:,0].T,pe.T).T\n",
    "    for i in range(6):\n",
    "        jpi = np.cross(Jo[:,i+1].T,(pe-Tmatrix[i][0:3,3]).T).T\n",
    "        Jp = np.hstack((Jp,jpi))\n",
    "    J = np.vstack((Jp,Jo))\n",
    "    T = Tmatrix[-1]\n",
    "    return (J,T)"
   ]
  },
  {
   "cell_type": "code",
   "execution_count": 151,
   "metadata": {
    "scrolled": true
   },
   "outputs": [
    {
     "data": {
      "text/plain": [
       "matrix([[ 4.09330874e-02,  4.09330874e-02,  6.34180589e-02,\n",
       "          3.33305268e-01, -4.95496177e-02, -3.23953636e-02,\n",
       "         -6.24024999e-02],\n",
       "        [-8.15119957e-02, -8.15119957e-02,  1.96175045e-02,\n",
       "         -7.39919088e-03, -3.14399372e-04,  5.71309495e-02,\n",
       "         -2.02741708e-02],\n",
       "        [ 0.00000000e+00, -0.00000000e+00,  8.99679382e-02,\n",
       "         -9.78220439e-02, -3.85346488e-02, -1.47209988e-02,\n",
       "          5.86420156e-02],\n",
       "        [ 0.00000000e+00,  0.00000000e+00, -2.95520207e-01,\n",
       "          2.82321237e-01, -8.32174494e-02, -2.10428570e-01,\n",
       "          4.81313842e-01],\n",
       "        [ 0.00000000e+00, -0.00000000e+00,  9.55336489e-01,\n",
       "          8.73321925e-02, -9.89864244e-01,  1.30332302e-01,\n",
       "         -8.48822602e-01],\n",
       "        [ 1.00000000e+00,  1.00000000e+00,  6.12323400e-17,\n",
       "          9.55336489e-01,  1.15080989e-01,  9.68882505e-01,\n",
       "          2.18717116e-01]])"
      ]
     },
     "execution_count": 151,
     "metadata": {},
     "output_type": "execute_result"
    }
   ],
   "source": [
    "#Sanity check for question a\n",
    "Jacob(ltheta=[0.1,0.2,0.3,-0.4,0.5,0.6,0.7])[0]"
   ]
  },
  {
   "cell_type": "code",
   "execution_count": 177,
   "metadata": {},
   "outputs": [],
   "source": [
    "# (b) simple Jacobian transpose method\n",
    "nlimit = 100\n",
    "eth = 0.1\n",
    "error = float('Inf')\n",
    "n = 0\n",
    "Te = np.matrix([[ 0.51525409,  0.48131384,  0.70911932, -0.081512  ],\n",
    "        [ 0.4758376 , -0.8488226 ,  0.2303883 , -0.04093309],\n",
    "        [ 0.71280558,  0.21871712, -0.66638654,  0.39938295],\n",
    "        [ 0.        ,  0.        ,  0.        ,  1.        ]])\n",
    "Td = np.matrix([[-0.781, -0.474, 0.407, -0.206],\n",
    "               [-0.220, 0.818, 0.531, -0.147],\n",
    "               [-0.585, 0.325, -0.743, 0.62],\n",
    "               [0, 0, 0, 1]])\n",
    "pd = Td[0:3,3]\n",
    "q = np.array((0.1,0.2,0.3,-0.4,0.5,0.6,0.7)).reshape(-1,1)\n",
    "qs = [np.squeeze(np.asarray(q))]#configuration record\n",
    "errors = []#error record\n",
    "pes = [np.squeeze(np.asarray(Te[0:3,3]))]#end position record\n",
    "while error > eth:\n",
    "    n += 1\n",
    "    if n > nlimit: break\n",
    "    J, Te = Jacob(q)\n",
    "    pk = Te[0:3,3]\n",
    "    ep = pd-pk\n",
    "    eo = np.array((0,0,0))\n",
    "    for i in range(3):\n",
    "        eo = eo +np.cross(Td[0:3,i].T,Te[0:3,i].T)\n",
    "    e = np.vstack((ep, eo.T))\n",
    "    error = np.linalg.norm(e)\n",
    "    errors.append(error)\n",
    "    JJe = J*J.T*e\n",
    "    alpha = np.dot(JJe.T, e)/np.dot(JJe.T, JJe)\n",
    "    dq = alpha[0,0]*(J.T*e)\n",
    "    q = q + dq\n",
    "    qs.append(np.squeeze(np.asarray(q)))\n",
    "    pes.append(np.squeeze(np.asarray(Te[0:3,3])))"
   ]
  },
  {
   "cell_type": "code",
   "execution_count": 179,
   "metadata": {},
   "outputs": [
    {
     "data": {
      "text/plain": [
       "[array([-0.081512  , -0.04093309,  0.39938295]),\n",
       " array([-0.081512  , -0.04093309,  0.39938295]),\n",
       " array([-0.1158206 , -0.01505941,  0.41829569]),\n",
       " array([-0.11174181, -0.02463305,  0.41558037]),\n",
       " array([-0.11901208, -0.01994627,  0.41956885]),\n",
       " array([-0.12330002, -0.02308001,  0.42157408]),\n",
       " array([-0.12950474, -0.01923521,  0.42510089]),\n",
       " array([-0.1346206 , -0.02273402,  0.4277309 ]),\n",
       " array([-0.1404009 , -0.01860501,  0.43117539]),\n",
       " array([-0.14553807, -0.0225548 ,  0.43405873]),\n",
       " array([-0.15089122, -0.01828128,  0.43738133]),\n",
       " array([-0.1561001 , -0.02267726,  0.4405868 ]),\n",
       " array([-0.16106788, -0.01825538,  0.44377846]),\n",
       " array([-0.16632137, -0.02309849,  0.44733453]),\n",
       " array([-0.17093724, -0.01854101,  0.45037935]),\n",
       " array([-0.17619847, -0.02382982,  0.45430863]),\n",
       " array([-0.18049304, -0.01915676,  0.45718711]),\n",
       " array([-0.18570387, -0.02488363,  0.46149542]),\n",
       " array([-0.18970548, -0.02012695,  0.46418505]),\n",
       " array([-0.1947828 , -0.02627415,  0.46885252]),\n",
       " array([-0.19851878, -0.02147915,  0.47132976]),\n",
       " array([-0.20335469, -0.02801654,  0.47630244]),\n",
       " array([-0.20685282, -0.02323947,  0.4785457 ]),\n",
       " array([-0.21132247, -0.03012463,  0.48373352]),\n",
       " array([-0.21461251, -0.0254253 ,  0.4857264 ]),\n",
       " array([-0.21859057, -0.03260527,  0.49101184]),\n",
       " array([-0.22170498, -0.02803719,  0.4927454 ]),\n",
       " array([-0.22508651, -0.03544865,  0.49800262]),\n",
       " array([-0.22805952, -0.0310523 ,  0.49947549]),\n",
       " array([-0.2307772 , -0.03861908,  0.50459225]),\n",
       " array([-0.23364191, -0.0344221 ,  0.50580942]),\n",
       " array([-0.2356735 , -0.04205387,  0.51070256]),\n",
       " array([-0.23845833, -0.03807605,  0.51167412]),\n",
       " array([-0.23982368, -0.04567339,  0.51629495]),\n",
       " array([-0.24254982, -0.04193081,  0.51703523]),\n",
       " array([-0.24330065, -0.04939659,  0.52136687]),\n",
       " array([-0.24598167, -0.04590229,  0.5218935 ]),\n",
       " array([-0.2461884 , -0.053154  ,  0.52594375]),\n",
       " array([-0.24883159, -0.04991642,  0.52627625]),\n",
       " array([-0.24857089, -0.05689364,  0.53006886]),\n",
       " array([-0.25117938, -0.05391524,  0.53022696]),\n",
       " array([-0.25052497, -0.0605807 ,  0.53379372]),\n",
       " array([-0.25309967, -0.05785784,  0.53379592]),\n",
       " array([-0.25211707, -0.06419375,  0.53717067]),\n",
       " array([-0.25465799, -0.06171782,  0.53703341]),\n",
       " array([-0.25340271, -0.0677205 ,  0.54024838]),\n",
       " array([-0.25590965, -0.06547952,  0.53998571]),\n",
       " array([-0.25442742, -0.07115424,  0.54306976]),\n",
       " array([-0.25690028, -0.06913441,  0.54269347]),\n",
       " array([-0.25522831, -0.07449149,  0.54567146]),\n",
       " array([-0.25766716, -0.07267831,  0.54519136]),\n",
       " array([-0.25583566, -0.07773048,  0.54808423]),\n",
       " array([-0.25824075, -0.07610956,  0.54750855]),\n",
       " array([-0.25627438, -0.08087026,  0.55033372]),\n",
       " array([-0.25864608, -0.07942777,  0.5496694 ]),\n",
       " array([-0.25656517, -0.08391026,  0.55244122]),\n",
       " array([-0.25890396, -0.08263321,  0.55169424]),\n",
       " array([-0.25672548, -0.08685006,  0.55442447]),\n",
       " array([-0.2590319 , -0.08572639,  0.55360009]),\n",
       " array([-0.25677021, -0.0896893 ,  0.55629834]),\n",
       " array([-0.25904487, -0.08870792,  0.55540127]),\n",
       " array([-0.25671232, -0.0924277 ,  0.55807533]),\n",
       " array([-0.25895584, -0.09157847,  0.55710986]),\n",
       " array([-0.25656315, -0.09506511,  0.55976606])]"
      ]
     },
     "execution_count": 179,
     "metadata": {},
     "output_type": "execute_result"
    }
   ],
   "source": [
    "pes"
   ]
  },
  {
   "cell_type": "code",
   "execution_count": 180,
   "metadata": {},
   "outputs": [],
   "source": [
    "np.savetxt('qs.txt', qs, delimiter=',')"
   ]
  },
  {
   "cell_type": "code",
   "execution_count": 182,
   "metadata": {},
   "outputs": [
    {
     "data": {
      "image/png": "[encoded data removed]",
      "text/plain": [
       "<matplotlib.figure.Figure at 0x10eb23c88>"
      ]
     },
     "metadata": {},
     "output_type": "display_data"
    }
   ],
   "source": [
    "import matplotlib.pyplot as plt\n",
    "plt.plot(errors)\n",
    "plt.show()"
   ]
  },
  {
   "cell_type": "code",
   "execution_count": 185,
   "metadata": {},
   "outputs": [
    {
     "ename": "AttributeError",
     "evalue": "'list' object has no attribute 'T'",
     "output_type": "error",
     "traceback": [
      "\u001b[0;31m---------------------------------------------------------------------------\u001b[0m",
      "\u001b[0;31mAttributeError\u001b[0m                            Traceback (most recent call last)",
      "\u001b[0;32m<ipython-input-185-d964986f3400>\u001b[0m in \u001b[0;36m<module>\u001b[0;34m()\u001b[0m\n\u001b[1;32m      1\u001b[0m \u001b[0;32mfrom\u001b[0m \u001b[0mmpl_toolkits\u001b[0m\u001b[0;34m.\u001b[0m\u001b[0mmplot3d\u001b[0m \u001b[0;32mimport\u001b[0m \u001b[0mAxes3D\u001b[0m\u001b[0;34m\u001b[0m\u001b[0m\n\u001b[0;32m----> 2\u001b[0;31m \u001b[0mx\u001b[0m \u001b[0;34m=\u001b[0m \u001b[0mnp\u001b[0m\u001b[0;34m.\u001b[0m\u001b[0masarray\u001b[0m\u001b[0;34m(\u001b[0m\u001b[0mpes\u001b[0m\u001b[0;34m.\u001b[0m\u001b[0mT\u001b[0m\u001b[0;34m[\u001b[0m\u001b[0;36m0\u001b[0m\u001b[0;34m]\u001b[0m\u001b[0;34m)\u001b[0m\u001b[0;34m.\u001b[0m\u001b[0msqueeze\u001b[0m\u001b[0;34m(\u001b[0m\u001b[0;34m)\u001b[0m\u001b[0;34m\u001b[0m\u001b[0m\n\u001b[0m\u001b[1;32m      3\u001b[0m \u001b[0my\u001b[0m \u001b[0;34m=\u001b[0m \u001b[0mnp\u001b[0m\u001b[0;34m.\u001b[0m\u001b[0masarray\u001b[0m\u001b[0;34m(\u001b[0m\u001b[0mpes\u001b[0m\u001b[0;34m.\u001b[0m\u001b[0mT\u001b[0m\u001b[0;34m[\u001b[0m\u001b[0;36m1\u001b[0m\u001b[0;34m]\u001b[0m\u001b[0;34m)\u001b[0m\u001b[0;34m.\u001b[0m\u001b[0msqueeze\u001b[0m\u001b[0;34m(\u001b[0m\u001b[0;34m)\u001b[0m\u001b[0;34m\u001b[0m\u001b[0m\n\u001b[1;32m      4\u001b[0m \u001b[0mz\u001b[0m \u001b[0;34m=\u001b[0m \u001b[0mnp\u001b[0m\u001b[0;34m.\u001b[0m\u001b[0masarray\u001b[0m\u001b[0;34m(\u001b[0m\u001b[0mpes\u001b[0m\u001b[0;34m.\u001b[0m\u001b[0mT\u001b[0m\u001b[0;34m[\u001b[0m\u001b[0;36m2\u001b[0m\u001b[0;34m]\u001b[0m\u001b[0;34m)\u001b[0m\u001b[0;34m.\u001b[0m\u001b[0msqueeze\u001b[0m\u001b[0;34m(\u001b[0m\u001b[0;34m)\u001b[0m\u001b[0;34m\u001b[0m\u001b[0m\n\u001b[1;32m      5\u001b[0m \u001b[0mfig\u001b[0m \u001b[0;34m=\u001b[0m \u001b[0mplt\u001b[0m\u001b[0;34m.\u001b[0m\u001b[0mfigure\u001b[0m\u001b[0;34m(\u001b[0m\u001b[0;34m)\u001b[0m\u001b[0;34m\u001b[0m\u001b[0m\n",
      "\u001b[0;31mAttributeError\u001b[0m: 'list' object has no attribute 'T'"
     ]
    }
   ],
   "source": [
    "from mpl_toolkits.mplot3d import Axes3D\n",
    "x = np.asarray(pes.T[0]).squeeze()\n",
    "y = np.asarray(pes.T[1]).squeeze()\n",
    "z = np.asarray(pes.T[2]).squeeze()\n",
    "fig = plt.figure()\n",
    "ax = fig.gca(projection='3d')\n",
    "ax.plot(x, y, z,color='b')\n",
    "plt.show()"
   ]
  },
  {
   "cell_type": "code",
   "execution_count": 186,
   "metadata": {},
   "outputs": [
    {
     "data": {
      "text/plain": [
       "[array([-0.081512  , -0.04093309,  0.39938295]),\n",
       " array([-0.081512  , -0.04093309,  0.39938295]),\n",
       " array([-0.1158206 , -0.01505941,  0.41829569]),\n",
       " array([-0.11174181, -0.02463305,  0.41558037]),\n",
       " array([-0.11901208, -0.01994627,  0.41956885]),\n",
       " array([-0.12330002, -0.02308001,  0.42157408]),\n",
       " array([-0.12950474, -0.01923521,  0.42510089]),\n",
       " array([-0.1346206 , -0.02273402,  0.4277309 ]),\n",
       " array([-0.1404009 , -0.01860501,  0.43117539]),\n",
       " array([-0.14553807, -0.0225548 ,  0.43405873]),\n",
       " array([-0.15089122, -0.01828128,  0.43738133]),\n",
       " array([-0.1561001 , -0.02267726,  0.4405868 ]),\n",
       " array([-0.16106788, -0.01825538,  0.44377846]),\n",
       " array([-0.16632137, -0.02309849,  0.44733453]),\n",
       " array([-0.17093724, -0.01854101,  0.45037935]),\n",
       " array([-0.17619847, -0.02382982,  0.45430863]),\n",
       " array([-0.18049304, -0.01915676,  0.45718711]),\n",
       " array([-0.18570387, -0.02488363,  0.46149542]),\n",
       " array([-0.18970548, -0.02012695,  0.46418505]),\n",
       " array([-0.1947828 , -0.02627415,  0.46885252]),\n",
       " array([-0.19851878, -0.02147915,  0.47132976]),\n",
       " array([-0.20335469, -0.02801654,  0.47630244]),\n",
       " array([-0.20685282, -0.02323947,  0.4785457 ]),\n",
       " array([-0.21132247, -0.03012463,  0.48373352]),\n",
       " array([-0.21461251, -0.0254253 ,  0.4857264 ]),\n",
       " array([-0.21859057, -0.03260527,  0.49101184]),\n",
       " array([-0.22170498, -0.02803719,  0.4927454 ]),\n",
       " array([-0.22508651, -0.03544865,  0.49800262]),\n",
       " array([-0.22805952, -0.0310523 ,  0.49947549]),\n",
       " array([-0.2307772 , -0.03861908,  0.50459225]),\n",
       " array([-0.23364191, -0.0344221 ,  0.50580942]),\n",
       " array([-0.2356735 , -0.04205387,  0.51070256]),\n",
       " array([-0.23845833, -0.03807605,  0.51167412]),\n",
       " array([-0.23982368, -0.04567339,  0.51629495]),\n",
       " array([-0.24254982, -0.04193081,  0.51703523]),\n",
       " array([-0.24330065, -0.04939659,  0.52136687]),\n",
       " array([-0.24598167, -0.04590229,  0.5218935 ]),\n",
       " array([-0.2461884 , -0.053154  ,  0.52594375]),\n",
       " array([-0.24883159, -0.04991642,  0.52627625]),\n",
       " array([-0.24857089, -0.05689364,  0.53006886]),\n",
       " array([-0.25117938, -0.05391524,  0.53022696]),\n",
       " array([-0.25052497, -0.0605807 ,  0.53379372]),\n",
       " array([-0.25309967, -0.05785784,  0.53379592]),\n",
       " array([-0.25211707, -0.06419375,  0.53717067]),\n",
       " array([-0.25465799, -0.06171782,  0.53703341]),\n",
       " array([-0.25340271, -0.0677205 ,  0.54024838]),\n",
       " array([-0.25590965, -0.06547952,  0.53998571]),\n",
       " array([-0.25442742, -0.07115424,  0.54306976]),\n",
       " array([-0.25690028, -0.06913441,  0.54269347]),\n",
       " array([-0.25522831, -0.07449149,  0.54567146]),\n",
       " array([-0.25766716, -0.07267831,  0.54519136]),\n",
       " array([-0.25583566, -0.07773048,  0.54808423]),\n",
       " array([-0.25824075, -0.07610956,  0.54750855]),\n",
       " array([-0.25627438, -0.08087026,  0.55033372]),\n",
       " array([-0.25864608, -0.07942777,  0.5496694 ]),\n",
       " array([-0.25656517, -0.08391026,  0.55244122]),\n",
       " array([-0.25890396, -0.08263321,  0.55169424]),\n",
       " array([-0.25672548, -0.08685006,  0.55442447]),\n",
       " array([-0.2590319 , -0.08572639,  0.55360009]),\n",
       " array([-0.25677021, -0.0896893 ,  0.55629834]),\n",
       " array([-0.25904487, -0.08870792,  0.55540127]),\n",
       " array([-0.25671232, -0.0924277 ,  0.55807533]),\n",
       " array([-0.25895584, -0.09157847,  0.55710986]),\n",
       " array([-0.25656315, -0.09506511,  0.55976606])]"
      ]
     },
     "execution_count": 186,
     "metadata": {},
     "output_type": "execute_result"
    }
   ],
   "source": [
    "pes[]"
   ]
  },
  {
   "cell_type": "code",
   "execution_count": 116,
   "metadata": {},
   "outputs": [
    {
     "data": {
      "text/plain": [
       "matrix([[4.65365568]])"
      ]
     },
     "execution_count": 116,
     "metadata": {},
     "output_type": "execute_result"
    }
   ],
   "source": [
    "np.dot(JJe.T, JJe)"
   ]
  },
  {
   "cell_type": "code",
   "execution_count": 118,
   "metadata": {},
   "outputs": [
    {
     "data": {
      "text/plain": [
       "4.653655680676932"
      ]
     },
     "execution_count": 118,
     "metadata": {},
     "output_type": "execute_result"
    }
   ],
   "source": [
    "np.linalg.norm(JJe)**2"
   ]
  },
  {
   "cell_type": "code",
   "execution_count": 100,
   "metadata": {},
   "outputs": [
    {
     "name": "stdout",
     "output_type": "stream",
     "text": [
      "[[ 0.12154777  0.25527752 -0.25827327]]\n",
      "[[0.45477795 0.26009891 0.00862719]]\n",
      "[[-0.18267275 -0.25565633 -0.28277432]]\n"
     ]
    }
   ],
   "source": [
    "for i in range(3):\n",
    "    print(np.cross(Td[0:3,i].T,Te[0:3,i].T))"
   ]
  },
  {
   "cell_type": "code",
   "execution_count": 59,
   "metadata": {},
   "outputs": [
    {
     "data": {
      "text/plain": [
       "matrix([[0.   ],\n",
       "        [0.   ],\n",
       "        [0.333],\n",
       "        [1.   ]])"
      ]
     },
     "execution_count": 59,
     "metadata": {},
     "output_type": "execute_result"
    }
   ],
   "source": [
    "Tmatrix[0][:,3]"
   ]
  }
 ],
 "metadata": {
  "kernelspec": {
   "display_name": "Python 3",
   "language": "python",
   "name": "python3"
  },
  "language_info": {
   "codemirror_mode": {
    "name": "ipython",
    "version": 3
   },
   "file_extension": ".py",
   "mimetype": "text/x-python",
   "name": "python",
   "nbconvert_exporter": "python",
   "pygments_lexer": "ipython3",
   "version": "3.6.1"
  }
 },
 "nbformat": 4,
 "nbformat_minor": 2
}
