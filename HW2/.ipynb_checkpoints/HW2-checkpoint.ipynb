{
 "cells": [
  {
   "cell_type": "markdown",
   "metadata": {},
   "source": [
    "## Problem 2\n",
    "##### (a)\n",
    "\\begin{equation}\n",
    "\\begin{split}\n",
    "J_p(q) &= \n",
    "\\begin{bmatrix}\n",
    "\\frac{\\partial p_x}{\\partial q_1} & \\frac{\\partial p_x}{\\partial q_2} & \\frac{\\partial p_x}{\\partial q_3} \\\\\n",
    "\\frac{\\partial p_y}{\\partial q_1} & \\frac{\\partial p_y}{\\partial q_2} & \\frac{\\partial p_y}{\\partial q_3}  \\\\\n",
    "\\frac{\\partial p_z}{\\partial q_1} & \\frac{\\partial p_z}{\\partial q_2} & \\frac{\\partial p_z}{\\partial q_3} \n",
    "\\end{bmatrix}\\\\\n",
    "&= \\begin{bmatrix}\n",
    "-(L_1+L_2c_2+L_3c_{23})s_1 & -L_2c_1s_2-L_3c_1s_{23} & -L_3c_1s_{23} \\\\\n",
    " (L_1+L_2c_2+L_3c_{23})c_1 & -L_2s_1s_2-L_3s_1s_{23} & -L_3s_1s_{23}  \\\\\n",
    "0 & L_2c_2+L_3c_{23} & L_3c_{23}\n",
    "\\end{bmatrix}\n",
    "\\end{split}\n",
    "\\end{equation}"
   ]
  },
  {
   "cell_type": "code",
   "execution_count": null,
   "metadata": {
    "collapsed": true
   },
   "outputs": [],
   "source": []
  }
 ],
 "metadata": {
  "kernelspec": {
   "display_name": "Python 3",
   "language": "python",
   "name": "python3"
  },
  "language_info": {
   "codemirror_mode": {
    "name": "ipython",
    "version": 3
   },
   "file_extension": ".py",
   "mimetype": "text/x-python",
   "name": "python",
   "nbconvert_exporter": "python",
   "pygments_lexer": "ipython3",
   "version": "3.6.1"
  }
 },
 "nbformat": 4,
 "nbformat_minor": 2
}
