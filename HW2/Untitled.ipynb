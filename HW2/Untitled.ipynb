{
 "cells": [
  {
   "cell_type": "code",
   "execution_count": 5,
   "metadata": {},
   "outputs": [],
   "source": [
    "import numpy as np\n",
    "import matplotlib.pyplot as plt\n",
    "import math"
   ]
  },
  {
   "cell_type": "code",
   "execution_count": 78,
   "metadata": {},
   "outputs": [],
   "source": [
    "def DHtransform(a, alpha, d, theta):\n",
    "    m = np.matrix([\n",
    "        [math.cos(theta), -math.sin(theta)*math.cos(alpha), math.sin(theta)*math.sin(alpha), a*math.cos(theta)],\n",
    "        [math.sin(theta), math.cos(theta)*math.cos(alpha), -math.cos(theta)*math.sin(alpha), a*math.sin(theta)],\n",
    "        [0, math.sin(alpha), math.cos(alpha), d],\n",
    "        [0, 0, 0, 1]\n",
    "    ])\n",
    "    return m\n",
    "\n",
    "def WAM(ltheta):\n",
    "    T1 = DHtransform(0, 0, 0.333, ltheta[0])\n",
    "    T2 = T1 * DHtransform(0, -math.pi/2, 0, ltheta[1]) \n",
    "    T3 = T2 * DHtransform(0, math.pi/2, 0.316, ltheta[2]) \n",
    "    T4 = T3 * DHtransform(0.0825, math.pi/2, 0, ltheta[3]) \n",
    "    T5 = T4 * DHtransform(-0.0825, -math.pi/2, 0.384, ltheta[4]) \n",
    "    T6 = T5 * DHtransform(0, math.pi/2, 0, ltheta[5]) \n",
    "    T7 = T6 * DHtransform(0.088, math.pi/2, 0, ltheta[6]) \n",
    "    return [T1,T2,T3,T4,T5,T6,T7]\n",
    "    \n",
    "#tmp = tmp * DHtransform(0, 0, 0.107, 0) "
   ]
  },
  {
   "cell_type": "code",
   "execution_count": 79,
   "metadata": {},
   "outputs": [],
   "source": [
    "#calculate Jacobian (forward kinematics)\n",
    "ltheta=[0.1,0.2,0.3,-0.4,0.5,0.6,0.7]\n",
    "Tmatrix = WAM(ltheta)\n",
    "Jo = np.array((0,0,1)).reshape(-1,1)\n",
    "for i in range(6):\n",
    "    Jo = np.hstack((Jo, Tmatrix[i][0:3,2]))\n",
    "pe = T7[0:3,3]\n",
    "Jp = np.cross(Jo[:,0].T,pe.T).T\n",
    "for i in range(6):\n",
    "    jpi = np.cross(Jo[:,i+1].T,(pe-Tmatrix[i][0:3,3]).T).T\n",
    "    Jp = np.hstack((Jp,jpi))\n",
    "J = np.vstack((Jp,Jo))"
   ]
  },
  {
   "cell_type": "code",
   "execution_count": 81,
   "metadata": {
    "scrolled": true
   },
   "outputs": [
    {
     "data": {
      "text/plain": [
       "matrix([[ 1.0000000e+00,  0.0000000e+00,  0.0000000e+00,  8.8000000e-02],\n",
       "        [ 0.0000000e+00, -1.0000000e+00, -1.2246468e-16, -6.8000000e-02],\n",
       "        [ 0.0000000e+00,  1.2246468e-16, -1.0000000e+00,  3.3300000e-01],\n",
       "        [ 0.0000000e+00,  0.0000000e+00,  0.0000000e+00,  1.0000000e+00]])"
      ]
     },
     "execution_count": 81,
     "metadata": {},
     "output_type": "execute_result"
    }
   ],
   "source": [
    "WAM([0,0,0,0,0,0,0])[-1]"
   ]
  },
  {
   "cell_type": "code",
   "execution_count": 75,
   "metadata": {},
   "outputs": [],
   "source": []
  },
  {
   "cell_type": "code",
   "execution_count": 76,
   "metadata": {},
   "outputs": [
    {
     "data": {
      "text/plain": [
       "array([[ 4.09330874e-02,  4.09330874e-02,  6.34180589e-02,\n",
       "         3.33305268e-01, -4.95496177e-02, -3.23953636e-02,\n",
       "        -6.24024999e-02],\n",
       "       [-8.15119957e-02, -8.15119957e-02,  1.96175045e-02,\n",
       "        -7.39919088e-03, -3.14399372e-04,  5.71309495e-02,\n",
       "        -2.02741708e-02],\n",
       "       [ 0.00000000e+00, -0.00000000e+00,  8.99679382e-02,\n",
       "        -9.78220439e-02, -3.85346488e-02, -1.47209988e-02,\n",
       "         5.86420156e-02]])"
      ]
     },
     "execution_count": 76,
     "metadata": {},
     "output_type": "execute_result"
    }
   ],
   "source": [
    "Jp"
   ]
  },
  {
   "cell_type": "code",
   "execution_count": 71,
   "metadata": {},
   "outputs": [],
   "source": [
    "i=1\n",
    "jpi = np.cross(Jo[:,i+1].T,(pe-Tmatrix[i][0:3,3]).T).T"
   ]
  },
  {
   "cell_type": "code",
   "execution_count": 66,
   "metadata": {},
   "outputs": [
    {
     "data": {
      "text/plain": [
       "matrix([[-2.95520207e-01],\n",
       "        [ 9.55336489e-01],\n",
       "        [ 6.12323400e-17]])"
      ]
     },
     "execution_count": 66,
     "metadata": {},
     "output_type": "execute_result"
    }
   ],
   "source": [
    "Jo[:,1+1]"
   ]
  },
  {
   "cell_type": "code",
   "execution_count": 57,
   "metadata": {},
   "outputs": [
    {
     "data": {
      "text/plain": [
       "array([[ 0.04093309],\n",
       "       [-0.081512  ],\n",
       "       [ 0.        ]])"
      ]
     },
     "execution_count": 57,
     "metadata": {},
     "output_type": "execute_result"
    }
   ],
   "source": [
    "np.cross(np.array((0,0,1)),pe.T).T"
   ]
  },
  {
   "cell_type": "code",
   "execution_count": 58,
   "metadata": {},
   "outputs": [
    {
     "data": {
      "text/plain": [
       "matrix([[-0.081512  ],\n",
       "        [-0.04093309],\n",
       "        [ 0.06638295]])"
      ]
     },
     "execution_count": 58,
     "metadata": {},
     "output_type": "execute_result"
    }
   ],
   "source": [
    "pe-Tmatrix[0][0:3,3]"
   ]
  },
  {
   "cell_type": "code",
   "execution_count": 59,
   "metadata": {},
   "outputs": [
    {
     "data": {
      "text/plain": [
       "matrix([[0.   ],\n",
       "        [0.   ],\n",
       "        [0.333],\n",
       "        [1.   ]])"
      ]
     },
     "execution_count": 59,
     "metadata": {},
     "output_type": "execute_result"
    }
   ],
   "source": [
    "Tmatrix[0][:,3]"
   ]
  }
 ],
 "metadata": {
  "kernelspec": {
   "display_name": "Python 3",
   "language": "python",
   "name": "python3"
  },
  "language_info": {
   "codemirror_mode": {
    "name": "ipython",
    "version": 3
   },
   "file_extension": ".py",
   "mimetype": "text/x-python",
   "name": "python",
   "nbconvert_exporter": "python",
   "pygments_lexer": "ipython3",
   "version": "3.6.1"
  }
 },
 "nbformat": 4,
 "nbformat_minor": 2
}
