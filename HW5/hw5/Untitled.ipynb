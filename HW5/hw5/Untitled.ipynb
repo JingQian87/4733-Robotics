{
 "cells": [
  {
   "cell_type": "code",
   "execution_count": 18,
   "metadata": {
    "collapsed": true
   },
   "outputs": [],
   "source": [
    "import numpy as np\n",
    "import random, math\n",
    "import matplotlib.pyplot as plt \n",
    "from sklearn.neighbors import NearestNeighbors\n",
    "\n",
    "from visualize_map import *\n",
    "%matplotlib inline\n",
    "\n",
    "obstacle_file = 'world_obstacles.txt'\n",
    "start_goal_file = 'start_goal.txt'"
   ]
  },
  {
   "cell_type": "code",
   "execution_count": 40,
   "metadata": {},
   "outputs": [
    {
     "data": {
      "text/plain": [
       "<matplotlib.patches.PathPatch at 0x118ef52b0>"
      ]
     },
     "execution_count": 40,
     "metadata": {},
     "output_type": "execute_result"
    },
    {
     "data": {
      "image/png": "[encoded data removed]",
      "text/plain": [
       "<matplotlib.figure.Figure at 0x118bbc9e8>"
      ]
     },
     "metadata": {},
     "output_type": "display_data"
    }
   ],
   "source": [
    "fig, ax = plt.subplots()\n",
    "path = build_obstacle_course(obstacle_file, ax)\n",
    "start, goal = add_start_and_goal(start_goal_file, ax)\n",
    "b=Path(((0,0),(100,0)))\n",
    "bpatch = patches.PathPatch(b,facecolor='None', edgecolor='xkcd:blue')\n",
    "ax.add_patch(bpatch)"
   ]
  },
  {
   "cell_type": "code",
   "execution_count": 46,
   "metadata": {},
   "outputs": [
    {
     "data": {
      "text/plain": [
       "(108, 2)"
      ]
     },
     "execution_count": 46,
     "metadata": {},
     "output_type": "execute_result"
    }
   ],
   "source": [
    "np.shape(path.vertices)"
   ]
  },
  {
   "cell_type": "code",
   "execution_count": 52,
   "metadata": {},
   "outputs": [],
   "source": [
    "v = path.vertices"
   ]
  },
  {
   "cell_type": "code",
   "execution_count": 54,
   "metadata": {},
   "outputs": [
    {
     "data": {
      "text/plain": [
       "array([[  0.,   0.],\n",
       "       [  0.,  25.],\n",
       "       [ 35.,  25.],\n",
       "       [ 35.,  64.],\n",
       "       [  0.,  64.],\n",
       "       [  0.,   0.],\n",
       "       [110.,   0.],\n",
       "       [185.,   0.],\n",
       "       [185.,  54.],\n",
       "       [110.,  54.],\n",
       "       [  0.,   0.],\n",
       "       [360.,   0.],\n",
       "       [516.,   0.],\n",
       "       [516.,  44.],\n",
       "       [360.,  44.],\n",
       "       [  0.,   0.],\n",
       "       [  0., 165.],\n",
       "       [ 38., 165.],\n",
       "       [ 38., 320.],\n",
       "       [  0., 320.],\n",
       "       [  0.,   0.],\n",
       "       [111.,  90.],\n",
       "       [258.,  90.],\n",
       "       [258.,  73.],\n",
       "       [285.,  73.],\n",
       "       [285.,  90.],\n",
       "       [405.,  90.],\n",
       "       [405., 119.],\n",
       "       [285., 119.],\n",
       "       [285., 155.],\n",
       "       [258., 155.],\n",
       "       [258., 119.],\n",
       "       [175., 119.],\n",
       "       [175., 193.],\n",
       "       [230., 193.],\n",
       "       [230., 293.],\n",
       "       [102., 293.],\n",
       "       [102., 192.],\n",
       "       [148., 192.],\n",
       "       [148., 119.],\n",
       "       [111., 119.],\n",
       "       [  0.,   0.],\n",
       "       [490.,  73.],\n",
       "       [598.,  73.],\n",
       "       [598., 120.],\n",
       "       [490., 120.],\n",
       "       [  0.,   0.],\n",
       "       [535., 156.],\n",
       "       [563., 156.],\n",
       "       [563., 193.],\n",
       "       [535., 193.],\n",
       "       [  0.,   0.],\n",
       "       [435., 165.],\n",
       "       [489., 165.],\n",
       "       [489., 239.],\n",
       "       [598., 239.],\n",
       "       [598., 275.],\n",
       "       [489., 275.],\n",
       "       [489., 310.],\n",
       "       [435., 310.],\n",
       "       [  0.,   0.],\n",
       "       [268., 304.],\n",
       "       [294., 304.],\n",
       "       [294., 340.],\n",
       "       [268., 340.],\n",
       "       [  0.,   0.],\n",
       "       [323., 174.],\n",
       "       [351., 174.],\n",
       "       [351., 378.],\n",
       "       [545., 378.],\n",
       "       [545., 404.],\n",
       "       [351., 404.],\n",
       "       [351., 560.],\n",
       "       [323., 560.],\n",
       "       [323., 404.],\n",
       "       [176., 404.],\n",
       "       [176., 378.],\n",
       "       [323., 378.],\n",
       "       [  0.,   0.],\n",
       "       [ 66., 388.],\n",
       "       [102., 388.],\n",
       "       [102., 452.],\n",
       "       [257., 452.],\n",
       "       [257., 487.],\n",
       "       [102., 487.],\n",
       "       [102., 543.],\n",
       "       [ 65., 543.],\n",
       "       [ 65., 561.],\n",
       "       [  0., 561.],\n",
       "       [  0., 516.],\n",
       "       [ 66., 516.],\n",
       "       [  0.,   0.],\n",
       "       [223., 534.],\n",
       "       [268., 534.],\n",
       "       [268., 598.],\n",
       "       [223., 598.],\n",
       "       [  0.,   0.],\n",
       "       [388., 452.],\n",
       "       [498., 452.],\n",
       "       [498., 553.],\n",
       "       [462., 553.],\n",
       "       [462., 497.],\n",
       "       [435., 497.],\n",
       "       [435., 597.],\n",
       "       [415., 597.],\n",
       "       [415., 497.],\n",
       "       [388., 497.],\n",
       "       [  0.,   0.]])"
      ]
     },
     "execution_count": 54,
     "metadata": {},
     "output_type": "execute_result"
    }
   ],
   "source": [
    "v"
   ]
  },
  {
   "cell_type": "code",
   "execution_count": 28,
   "metadata": {
    "collapsed": true
   },
   "outputs": [],
   "source": [
    "for i in range(len(v)-1):\n",
    "    "
   ]
  },
  {
   "cell_type": "code",
   "execution_count": 29,
   "metadata": {},
   "outputs": [],
   "source": [
    "plt.show()"
   ]
  },
  {
   "cell_type": "code",
   "execution_count": 6,
   "metadata": {
    "collapsed": true
   },
   "outputs": [],
   "source": [
    "other = Path(((0,0),(100,100)))"
   ]
  },
  {
   "cell_type": "code",
   "execution_count": 7,
   "metadata": {},
   "outputs": [
    {
     "data": {
      "text/plain": [
       "Path(array([[  0.,   0.],\n",
       "       [100., 100.]]), None)"
      ]
     },
     "execution_count": 7,
     "metadata": {},
     "output_type": "execute_result"
    }
   ],
   "source": [
    "other"
   ]
  }
 ],
 "metadata": {
  "kernelspec": {
   "display_name": "Python 3",
   "language": "python",
   "name": "python3"
  },
  "language_info": {
   "codemirror_mode": {
    "name": "ipython",
    "version": 3
   },
   "file_extension": ".py",
   "mimetype": "text/x-python",
   "name": "python",
   "nbconvert_exporter": "python",
   "pygments_lexer": "ipython3",
   "version": "3.6.1"
  }
 },
 "nbformat": 4,
 "nbformat_minor": 2
}
