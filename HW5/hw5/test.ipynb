{
 "cells": [
  {
   "cell_type": "code",
   "execution_count": 1,
   "metadata": {
    "collapsed": true
   },
   "outputs": [],
   "source": [
    "import numpy as np\n",
    "import random, math\n",
    "import matplotlib.pyplot as plt \n",
    "from sklearn.neighbors import NearestNeighbors\n",
    "\n",
    "from visualize_map import *\n",
    "%matplotlib inline\n",
    "\n",
    "obstacle_file = 'world_obstacles.txt'\n",
    "start_goal_file = 'start_goal.txt'"
   ]
  },
  {
   "cell_type": "code",
   "execution_count": 2,
   "metadata": {
    "collapsed": true
   },
   "outputs": [],
   "source": [
    "from vanillaPRM import *"
   ]
  },
  {
   "cell_type": "code",
   "execution_count": 3,
   "metadata": {},
   "outputs": [
    {
     "data": {
      "image/png": "[encoded data removed]",
      "text/plain": [
       "<matplotlib.figure.Figure at 0x11ea7eeb8>"
      ]
     },
     "metadata": {},
     "output_type": "display_data"
    }
   ],
   "source": [
    "fig, ax = plt.subplots()\n",
    "path = build_obstacle_course(obstacle_file, ax)\n",
    "start, goal = add_start_and_goal(start_goal_file, ax)\n",
    "V = generate_nodes(path, 5)"
   ]
  },
  {
   "cell_type": "code",
   "execution_count": 4,
   "metadata": {},
   "outputs": [
    {
     "data": {
      "text/plain": [
       "Path(array([[  0.,   0.],\n",
       "       [  0.,  25.],\n",
       "       [ 35.,  25.],\n",
       "       [ 35.,  64.],\n",
       "       [  0.,  64.],\n",
       "       [  0.,   0.],\n",
       "       [110.,   0.],\n",
       "       [185.,   0.],\n",
       "       [185.,  54.],\n",
       "       [110.,  54.],\n",
       "       [  0.,   0.],\n",
       "       [360.,   0.],\n",
       "       [516.,   0.],\n",
       "       [516.,  44.],\n",
       "       [360.,  44.],\n",
       "       [  0.,   0.],\n",
       "       [  0., 165.],\n",
       "       [ 38., 165.],\n",
       "       [ 38., 320.],\n",
       "       [  0., 320.],\n",
       "       [  0.,   0.],\n",
       "       [111.,  90.],\n",
       "       [258.,  90.],\n",
       "       [258.,  73.],\n",
       "       [285.,  73.],\n",
       "       [285.,  90.],\n",
       "       [405.,  90.],\n",
       "       [405., 119.],\n",
       "       [285., 119.],\n",
       "       [285., 155.],\n",
       "       [258., 155.],\n",
       "       [258., 119.],\n",
       "       [175., 119.],\n",
       "       [175., 193.],\n",
       "       [230., 193.],\n",
       "       [230., 293.],\n",
       "       [102., 293.],\n",
       "       [102., 192.],\n",
       "       [148., 192.],\n",
       "       [148., 119.],\n",
       "       [111., 119.],\n",
       "       [  0.,   0.],\n",
       "       [490.,  73.],\n",
       "       [598.,  73.],\n",
       "       [598., 120.],\n",
       "       [490., 120.],\n",
       "       [  0.,   0.],\n",
       "       [535., 156.],\n",
       "       [563., 156.],\n",
       "       [563., 193.],\n",
       "       [535., 193.],\n",
       "       [  0.,   0.],\n",
       "       [435., 165.],\n",
       "       [489., 165.],\n",
       "       [489., 239.],\n",
       "       [598., 239.],\n",
       "       [598., 275.],\n",
       "       [489., 275.],\n",
       "       [489., 310.],\n",
       "       [435., 310.],\n",
       "       [  0.,   0.],\n",
       "       [268., 304.],\n",
       "       [294., 304.],\n",
       "       [294., 340.],\n",
       "       [268., 340.],\n",
       "       [  0.,   0.],\n",
       "       [323., 174.],\n",
       "       [351., 174.],\n",
       "       [351., 378.],\n",
       "       [545., 378.],\n",
       "       [545., 404.],\n",
       "       [351., 404.],\n",
       "       [351., 560.],\n",
       "       [323., 560.],\n",
       "       [323., 404.],\n",
       "       [176., 404.],\n",
       "       [176., 378.],\n",
       "       [323., 378.],\n",
       "       [  0.,   0.],\n",
       "       [ 66., 388.],\n",
       "       [102., 388.],\n",
       "       [102., 452.],\n",
       "       [257., 452.],\n",
       "       [257., 487.],\n",
       "       [102., 487.],\n",
       "       [102., 543.],\n",
       "       [ 65., 543.],\n",
       "       [ 65., 561.],\n",
       "       [  0., 561.],\n",
       "       [  0., 516.],\n",
       "       [ 66., 516.],\n",
       "       [  0.,   0.],\n",
       "       [223., 534.],\n",
       "       [268., 534.],\n",
       "       [268., 598.],\n",
       "       [223., 598.],\n",
       "       [  0.,   0.],\n",
       "       [388., 452.],\n",
       "       [498., 452.],\n",
       "       [498., 553.],\n",
       "       [462., 553.],\n",
       "       [462., 497.],\n",
       "       [435., 497.],\n",
       "       [435., 597.],\n",
       "       [415., 597.],\n",
       "       [415., 497.],\n",
       "       [388., 497.],\n",
       "       [  0.,   0.]]), array([ 1,  1,  2,  2,  2, 79,  1,  2,  2,  2, 79,  1,  2,  2,  2, 79,  1,\n",
       "        2,  2,  2, 79,  1,  2,  2,  2,  2,  2,  2,  2,  2,  2,  2,  2,  2,\n",
       "        2,  2,  2,  2,  2,  2,  2, 79,  1,  2,  2,  2, 79,  1,  2,  2,  2,\n",
       "       79,  1,  2,  2,  2,  2,  2,  2,  2, 79,  1,  2,  2,  2, 79,  1,  2,\n",
       "        2,  2,  2,  2,  2,  2,  2,  2,  2,  2, 79,  1,  2,  2,  2,  2,  2,\n",
       "        2,  2,  2,  2,  2,  2, 79,  1,  2,  2,  2, 79,  1,  2,  2,  2,  2,\n",
       "        2,  2,  2,  2,  2, 79], dtype=uint8))"
      ]
     },
     "execution_count": 4,
     "metadata": {},
     "output_type": "execute_result"
    }
   ],
   "source": [
    "path"
   ]
  },
  {
   "cell_type": "code",
   "execution_count": 7,
   "metadata": {},
   "outputs": [
    {
     "data": {
      "text/plain": [
       "array([ 1,  1,  2,  2,  2, 79,  1,  2,  2,  2, 79,  1,  2,  2,  2, 79,  1,\n",
       "        2,  2,  2, 79,  1,  2,  2,  2,  2,  2,  2,  2,  2,  2,  2,  2,  2,\n",
       "        2,  2,  2,  2,  2,  2,  2, 79,  1,  2,  2,  2, 79,  1,  2,  2,  2,\n",
       "       79,  1,  2,  2,  2,  2,  2,  2,  2, 79,  1,  2,  2,  2, 79,  1,  2,\n",
       "        2,  2,  2,  2,  2,  2,  2,  2,  2,  2, 79,  1,  2,  2,  2,  2,  2,\n",
       "        2,  2,  2,  2,  2,  2, 79,  1,  2,  2,  2, 79,  1,  2,  2,  2,  2,\n",
       "        2,  2,  2,  2,  2, 79], dtype=uint8)"
      ]
     },
     "execution_count": 7,
     "metadata": {},
     "output_type": "execute_result"
    }
   ],
   "source": [
    "path.codes"
   ]
  },
  {
   "cell_type": "code",
   "execution_count": 8,
   "metadata": {
    "collapsed": true
   },
   "outputs": [],
   "source": [
    "k = 2\n",
    "nodes = V\n",
    "nbrs = NearestNeighbors(n_neighbors=k+1, algorithm='brute').fit(nodes)\n",
    "distances, indices = nbrs.kneighbors(nodes)"
   ]
  },
  {
   "cell_type": "code",
   "execution_count": 9,
   "metadata": {
    "collapsed": true
   },
   "outputs": [],
   "source": [
    "E_obs = edges_obstacles(path)\n",
    "E = []\n",
    "\n",
    "for i in range(len(nodes)):\n",
    "    q = tuple(nodes[i].tolist())\n",
    "    kindices = indices[i, 1:]\n",
    "    #print(q, knbrs)\n",
    "    for j in kindices:\n",
    "        qj = tuple(nodes[j].tolist())\n",
    "        if (q, qj) not in E and (qj, q) not in E:\n",
    "            for k in E_obs:\n",
    "                if intersect(q, qj, k[0], k[1]):\n",
    "                    break\n",
    "            else:\n",
    "                E.append((q, qj))"
   ]
  },
  {
   "cell_type": "code",
   "execution_count": 12,
   "metadata": {},
   "outputs": [],
   "source": [
    "sg = np.array((start,goal))"
   ]
  },
  {
   "cell_type": "code",
   "execution_count": 13,
   "metadata": {},
   "outputs": [
    {
     "data": {
      "text/plain": [
       "array([[ 56,  18],\n",
       "       [448, 542]])"
      ]
     },
     "execution_count": 13,
     "metadata": {},
     "output_type": "execute_result"
    }
   ],
   "source": [
    "sg"
   ]
  },
  {
   "cell_type": "code",
   "execution_count": 15,
   "metadata": {},
   "outputs": [
    {
     "data": {
      "text/plain": [
       "[array([199.03708056,  27.47411172]),\n",
       " array([587.51222514, 177.84138009]),\n",
       " array([467.18908661,  91.04347942]),\n",
       " array([46.01743523, 60.92501891]),\n",
       " array([388.36394394,  59.20607694])]"
      ]
     },
     "execution_count": 15,
     "metadata": {},
     "output_type": "execute_result"
    }
   ],
   "source": [
    "V"
   ]
  },
  {
   "cell_type": "code",
   "execution_count": 26,
   "metadata": {},
   "outputs": [],
   "source": [
    "dist = dict()\n",
    "for i in V:\n",
    "    dist[tuple(i.tolist())] = manhattan_dist(i, start)\n",
    "knear = []\n",
    "for i in range(5):\n",
    "    minpoint = min(dist, key=dist.get)\n",
    "    knear.append(minpoint)\n",
    "    del dist[minpoint]\n",
    "    "
   ]
  },
  {
   "cell_type": "code",
   "execution_count": 27,
   "metadata": {},
   "outputs": [
    {
     "data": {
      "text/plain": [
       "[(587.5122251392856, 177.84138008792934),\n",
       " (467.18908661298946, 91.04347941645392),\n",
       " (388.36394393935, 59.20607693831024),\n",
       " (199.0370805620771, 27.47411172041079),\n",
       " (46.017435233763, 60.92501891016835)]"
      ]
     },
     "execution_count": 27,
     "metadata": {},
     "output_type": "execute_result"
    }
   ],
   "source": [
    "knear"
   ]
  },
  {
   "cell_type": "code",
   "execution_count": 28,
   "metadata": {},
   "outputs": [
    {
     "data": {
      "image/png": "[encoded data removed]",
      "text/plain": [
       "<matplotlib.figure.Figure at 0x11e8c3828>"
      ]
     },
     "metadata": {},
     "output_type": "display_data"
    }
   ],
   "source": [
    "fig, ax = plt.subplots()\n",
    "build_obstacle_course(obstacle_file, ax)\n",
    "start, goal = add_start_and_goal(start_goal_file, ax)\n",
    "for j in E:\n",
    "    b=Path(j)\n",
    "    bpatch = patches.PathPatch(b,facecolor='None', edgecolor='xkcd:blue')\n",
    "    ax.add_patch(bpatch)"
   ]
  },
  {
   "cell_type": "code",
   "execution_count": 46,
   "metadata": {},
   "outputs": [
    {
     "data": {
      "text/plain": [
       "(108, 2)"
      ]
     },
     "execution_count": 46,
     "metadata": {},
     "output_type": "execute_result"
    }
   ],
   "source": []
  },
  {
   "cell_type": "code",
   "execution_count": 52,
   "metadata": {
    "collapsed": true
   },
   "outputs": [],
   "source": [
    "v = path.vertices"
   ]
  },
  {
   "cell_type": "code",
   "execution_count": 54,
   "metadata": {},
   "outputs": [
    {
     "data": {
      "text/plain": [
       "array([[  0.,   0.],\n",
       "       [  0.,  25.],\n",
       "       [ 35.,  25.],\n",
       "       [ 35.,  64.],\n",
       "       [  0.,  64.],\n",
       "       [  0.,   0.],\n",
       "       [110.,   0.],\n",
       "       [185.,   0.],\n",
       "       [185.,  54.],\n",
       "       [110.,  54.],\n",
       "       [  0.,   0.],\n",
       "       [360.,   0.],\n",
       "       [516.,   0.],\n",
       "       [516.,  44.],\n",
       "       [360.,  44.],\n",
       "       [  0.,   0.],\n",
       "       [  0., 165.],\n",
       "       [ 38., 165.],\n",
       "       [ 38., 320.],\n",
       "       [  0., 320.],\n",
       "       [  0.,   0.],\n",
       "       [111.,  90.],\n",
       "       [258.,  90.],\n",
       "       [258.,  73.],\n",
       "       [285.,  73.],\n",
       "       [285.,  90.],\n",
       "       [405.,  90.],\n",
       "       [405., 119.],\n",
       "       [285., 119.],\n",
       "       [285., 155.],\n",
       "       [258., 155.],\n",
       "       [258., 119.],\n",
       "       [175., 119.],\n",
       "       [175., 193.],\n",
       "       [230., 193.],\n",
       "       [230., 293.],\n",
       "       [102., 293.],\n",
       "       [102., 192.],\n",
       "       [148., 192.],\n",
       "       [148., 119.],\n",
       "       [111., 119.],\n",
       "       [  0.,   0.],\n",
       "       [490.,  73.],\n",
       "       [598.,  73.],\n",
       "       [598., 120.],\n",
       "       [490., 120.],\n",
       "       [  0.,   0.],\n",
       "       [535., 156.],\n",
       "       [563., 156.],\n",
       "       [563., 193.],\n",
       "       [535., 193.],\n",
       "       [  0.,   0.],\n",
       "       [435., 165.],\n",
       "       [489., 165.],\n",
       "       [489., 239.],\n",
       "       [598., 239.],\n",
       "       [598., 275.],\n",
       "       [489., 275.],\n",
       "       [489., 310.],\n",
       "       [435., 310.],\n",
       "       [  0.,   0.],\n",
       "       [268., 304.],\n",
       "       [294., 304.],\n",
       "       [294., 340.],\n",
       "       [268., 340.],\n",
       "       [  0.,   0.],\n",
       "       [323., 174.],\n",
       "       [351., 174.],\n",
       "       [351., 378.],\n",
       "       [545., 378.],\n",
       "       [545., 404.],\n",
       "       [351., 404.],\n",
       "       [351., 560.],\n",
       "       [323., 560.],\n",
       "       [323., 404.],\n",
       "       [176., 404.],\n",
       "       [176., 378.],\n",
       "       [323., 378.],\n",
       "       [  0.,   0.],\n",
       "       [ 66., 388.],\n",
       "       [102., 388.],\n",
       "       [102., 452.],\n",
       "       [257., 452.],\n",
       "       [257., 487.],\n",
       "       [102., 487.],\n",
       "       [102., 543.],\n",
       "       [ 65., 543.],\n",
       "       [ 65., 561.],\n",
       "       [  0., 561.],\n",
       "       [  0., 516.],\n",
       "       [ 66., 516.],\n",
       "       [  0.,   0.],\n",
       "       [223., 534.],\n",
       "       [268., 534.],\n",
       "       [268., 598.],\n",
       "       [223., 598.],\n",
       "       [  0.,   0.],\n",
       "       [388., 452.],\n",
       "       [498., 452.],\n",
       "       [498., 553.],\n",
       "       [462., 553.],\n",
       "       [462., 497.],\n",
       "       [435., 497.],\n",
       "       [435., 597.],\n",
       "       [415., 597.],\n",
       "       [415., 497.],\n",
       "       [388., 497.],\n",
       "       [  0.,   0.]])"
      ]
     },
     "execution_count": 54,
     "metadata": {},
     "output_type": "execute_result"
    }
   ],
   "source": [
    "v"
   ]
  },
  {
   "cell_type": "code",
   "execution_count": 28,
   "metadata": {
    "collapsed": true
   },
   "outputs": [],
   "source": [
    "for i in range(len(v)-1):\n",
    "    if v[i] == [0., 0.]:\n",
    "        start = v[i+1]"
   ]
  },
  {
   "cell_type": "code",
   "execution_count": 56,
   "metadata": {},
   "outputs": [
    {
     "name": "stdout",
     "output_type": "stream",
     "text": [
      "[ 1  1  2  2  2 79  1  2  2  2 79  1  2  2  2 79  1  2  2  2 79  1  2  2\n",
      "  2  2  2  2  2  2  2  2  2  2  2  2  2  2  2  2  2 79  1  2  2  2 79  1\n",
      "  2  2  2 79  1  2  2  2  2  2  2  2 79  1  2  2  2 79  1  2  2  2  2  2\n",
      "  2  2  2  2  2  2 79  1  2  2  2  2  2  2  2  2  2  2  2 79  1  2  2  2\n",
      " 79  1  2  2  2  2  2  2  2  2  2 79]\n"
     ]
    }
   ],
   "source": [
    "print(path.codes)"
   ]
  },
  {
   "cell_type": "code",
   "execution_count": 24,
   "metadata": {
    "collapsed": true
   },
   "outputs": [],
   "source": [
    "e = []\n",
    "for i in range(1, len(path)-1):\n",
    "    if path.codes[i] == 1: \n",
    "        start = path.vertices[i]\n",
    "    elif path.codes[i] == 79:\n",
    "        continue\n",
    "    elif path.codes[i+1] == 79:\n",
    "        e.append((path.vertices[i], start))\n",
    "        continue\n",
    "    e.append((path.vertices[i], path.vertices[i+1]))\n",
    "e = np.array(e)\n",
    "    \n",
    "    \n",
    "    "
   ]
  },
  {
   "cell_type": "code",
   "execution_count": 28,
   "metadata": {},
   "outputs": [
    {
     "data": {
      "text/plain": [
       "(94, 2, 2)"
      ]
     },
     "execution_count": 28,
     "metadata": {},
     "output_type": "execute_result"
    }
   ],
   "source": [
    "np.shape(e)"
   ]
  },
  {
   "cell_type": "code",
   "execution_count": 29,
   "metadata": {},
   "outputs": [
    {
     "data": {
      "text/plain": [
       "array([[ 0., 25.],\n",
       "       [35., 25.]])"
      ]
     },
     "execution_count": 29,
     "metadata": {},
     "output_type": "execute_result"
    }
   ],
   "source": [
    "e[0]"
   ]
  },
  {
   "cell_type": "code",
   "execution_count": 7,
   "metadata": {},
   "outputs": [
    {
     "data": {
      "text/plain": [
       "Path(array([[  0.,   0.],\n",
       "       [100., 100.]]), None)"
      ]
     },
     "execution_count": 7,
     "metadata": {},
     "output_type": "execute_result"
    }
   ],
   "source": [
    "other"
   ]
  }
 ],
 "metadata": {
  "kernelspec": {
   "display_name": "Python 3",
   "language": "python",
   "name": "python3"
  },
  "language_info": {
   "codemirror_mode": {
    "name": "ipython",
    "version": 3
   },
   "file_extension": ".py",
   "mimetype": "text/x-python",
   "name": "python",
   "nbconvert_exporter": "python",
   "pygments_lexer": "ipython3",
   "version": "3.6.1"
  }
 },
 "nbformat": 4,
 "nbformat_minor": 2
}
